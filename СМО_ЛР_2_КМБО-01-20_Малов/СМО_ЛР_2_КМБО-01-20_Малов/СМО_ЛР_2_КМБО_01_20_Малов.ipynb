{
  "metadata": {
    "kernelspec": {
      "name": "python",
      "display_name": "Python (Pyodide)",
      "language": "python"
    },
    "language_info": {
      "codemirror_mode": {
        "name": "python",
        "version": 3
      },
      "file_extension": ".py",
      "mimetype": "text/x-python",
      "name": "python",
      "nbconvert_exporter": "python",
      "pygments_lexer": "ipython3",
      "version": "3.8"
    },
    "colab": {
      "provenance": []
    }
  },
  "nbformat_minor": 4,
  "nbformat": 4,
  "cells": [
    {
      "cell_type": "code",
      "source": "import numpy as np\nimport pandas as pd\nfrom copy import copy",
      "metadata": {
        "id": "dsOKs_aw7zJU",
        "trusted": true
      },
      "outputs": [],
      "execution_count": 2
    },
    {
      "cell_type": "code",
      "source": "n = 16\nm = 3\nlambd = 1/6.403\nmu = 1/0.412",
      "metadata": {
        "id": "e5JLd3wC703_",
        "trusted": true
      },
      "outputs": [],
      "execution_count": 3
    },
    {
      "cell_type": "code",
      "source": "sample = {'l' : 0, 't_sob' : 0, 'type' : 0, 'c' : 0, 't_min' : 0, 't_ozh' : 0, 'j' : 0, 'k' : 0}\ndevice = {'j' : 0, 'k' : 0, 't_ost' : 0}",
      "metadata": {
        "id": "bKiDnsna707X",
        "trusted": true
      },
      "outputs": [],
      "execution_count": 4
    },
    {
      "cell_type": "markdown",
      "source": "Задание 1",
      "metadata": {
        "id": "HXpX_pIQ8XCu"
      }
    },
    {
      "cell_type": "code",
      "source": "dT = 0.164\ntable = [{'l' : 0, 't_sob' : 0, 'type' : 0, 'c' : 0, 't_min' : 0, 't_ozh' : 0, 'j' : 0, 'k' : 0} for i in range(100)]\ndevices = [{'j' : 0, 'k' : i + 1, 't_ost' : 0} for i in range(n)]\ntable2 = []\ntable3 = [{'N' : i + 1, 't_zan' : 0, 't_pr' : 0, 'delta_pr' : 0} for i in range(n)]\ntable4 = [{'sost' : i, 'R_100' : 0, 'nu_100' : 0 , 'T_100' : 0,  'delta_100' : 0 } for i in range(101)]\n\nfor i in range(n):\n    devices[i]['k'] = i + 1\nqueue = []\ncurrent_device = -1\ntime_cummulative = 0\nmin_time = 0\ntotal_j = 0",
      "metadata": {
        "id": "dLsMYBSp8bN5",
        "trusted": true
      },
      "outputs": [],
      "execution_count": 5
    },
    {
      "cell_type": "code",
      "source": "for i in range(100):\n\n    if current_device == -1:\n\n        current_device = 0\n        total_j += 1\n        min_time = np.round(np.random.exponential(mu), 6)\n        if i == 0:\n            time_cummulative += dT\n            table4[0]['T_100'] += dT\n        else:\n            time_cummulative += table[i-1]['t_ozh']\n            table4[0]['T_100'] += table[i-1]['t_ozh']\n\n        table4[0]['R_100'] += 1\n\n        table[i]['l'] = i + 1\n        table[i]['j'] = total_j\n        table[i]['t_sob'] = time_cummulative\n        table[i]['type'] = 1\n        table[i]['c'] = 1\n        table[i]['t_min'] = min_time\n        table[i]['t_ozh'] = dT\n        table[i]['k'] = 1\n\n        devices[0]['j'] = total_j\n        devices[0]['t_ost'] = min_time\n\n        table2.append({'j' : total_j, 't_z' : time_cummulative, 'q_j' : 0, 't_och' : 0, 't_nob' : 0, 't_obs' : min_time,\n                       't_kob' : 0, 'k_j' : 1})\n\n\n    elif min_time < table[i-1]['t_ozh']:\n\n        time_cummulative += min_time\n\n        for j in range(n):\n            if devices[j]['j'] != 0:\n                devices[j]['t_ost'] -= min_time\n                table3[j]['t_zan'] += min_time\n        table4[table[i-1]['c']]['T_100'] += min_time\n        table4[table[i-1]['c']]['R_100'] += 1\n\n        table[i]['l'] = i + 1\n        table[i]['j'] = devices[current_device]['j']\n        table[i]['t_sob'] = time_cummulative\n        table[i]['t_ozh'] = np.round(table[i-1]['t_ozh'] - min_time, 6)\n        table[i]['type'] = 2\n        table[i]['c'] = table[i-1]['c'] - 1\n        table[i]['k'] = current_device + 1\n\n        table2[table[i]['j'] - 1]['t_kob'] = np.round(time_cummulative, 6)\n        table2[table[i]['j'] - 1]['t_nob'] = np.round(time_cummulative - table2[table[i]['j']-1]['t_obs'], 6)\n        table2[table[i]['j']- 1]['t_och'] = np.round(table2[ table[i]['j'] - 1]['t_nob']  - table2[table[i]['j']-1]['t_z'], 6)\n\n\n        devices[current_device]['j'] = 0\n        devices[current_device]['t_ost'] = 0\n\n        if len(queue) > 0:\n            tmp = queue.pop(0)\n            devices[current_device]['j'] = tmp[0]\n            devices[current_device]['t_ost'] = tmp[1]\n            table2[tmp[0] - 1]['k_j'] = current_device + 1\n\n        current_device = -1\n        min_time = np.inf\n        for j in range(n):\n            if devices[j]['j'] != 0 and min_time > devices[j]['t_ost']:\n                min_time = devices[j]['t_ost']\n                current_device = j\n        if current_device == -1:\n            table[i]['t_min'] = -1\n        else:\n            table[i]['t_min'] = min_time\n\n    else:\n        min_time -= table[i-1]['t_ozh']\n        time_cummulative += table[i - 1]['t_ozh']\n        total_j += 1\n        for j in range(n):\n            if devices[j]['j'] != 0:\n                devices[j]['t_ost'] -= table[i - 1]['t_ozh']\n                table3[j]['t_zan'] += table[i - 1]['t_ozh']\n\n        table4[table[i-1]['c']]['T_100'] += table[i-1]['t_ozh']\n        table4[table[i-1]['c']]['R_100'] += 1\n\n\n        table[i]['l'] = i + 1\n        table[i]['j'] = total_j\n        table[i]['t_sob'] = time_cummulative\n        table[i]['t_ozh'] = dT\n        table[i]['type'] = 1\n        table[i]['c'] = table[i-1]['c'] + 1\n\n        counter = -1\n        for j in range(n):\n            if devices[j]['j'] == 0:\n                counter = j\n                break\n\n\n        if counter == -1:\n            queue.append([total_j, np.round(np.random.exponential(mu), 6)])\n            table[i]['k'] = -1\n            table2.append({'j' : total_j, 't_z' : time_cummulative, 'q_j' : len(queue), 't_och' : 0, 't_nob' : 0, 't_obs' : min_time,\n                       't_kob' : 0, 'k_j' : -1})\n        else:\n            devices[counter]['j'] = total_j\n            devices[counter]['t_ost'] = np.round(np.random.exponential(mu), 6)\n            if devices[counter]['t_ost'] < min_time:\n                min_time = devices[counter]['t_ost']\n                current_device = counter\n            table[i]['k'] = counter + 1\n            table2.append({'j' : total_j, 't_z' : time_cummulative, 'q_j' : 0, 't_och' : 0, 't_nob' : 0, 't_obs' : devices[counter]['t_ost'],\n                       't_kob' : 0, 'k_j' : counter + 1})\n\n        table[i]['t_min'] = min_time\n\n\nend_service_flg = False\ni = 100\n\nwhile True:\n\n    if len(queue) == 0:\n        end_service_flg = True\n        for j in range(n):\n            if devices[j]['j'] != 0:\n                end_service_flg = False\n                break\n        if end_service_flg:\n            break\n\n\n    time_cummulative += min_time\n    table.append({'l' : 0, 't_sob' : 0, 'type' : 0, 'c' : 0, 't_min' : 0, 't_ozh' : 0, 'j' : 0, 'k' : 0})\n\n    for j in range(n):\n        if devices[j]['j'] != 0:\n            devices[j]['t_ost'] -= min_time\n\n    table[i]['l'] = i + 1\n    table[i]['j'] = devices[current_device]['j']\n    table[i]['t_sob'] = time_cummulative\n    table[i]['t_ozh'] = np.round(table[i-1]['t_ozh'] - min_time, 6)\n    table[i]['type'] = 2\n    table[i]['c'] = table[i-1]['c'] - 1\n    table[i]['k'] = current_device + 1\n\n    table2[table[i]['j'] - 1]['t_kob'] = np.round(time_cummulative, 6)\n    table2[table[i]['j'] - 1]['t_nob'] = np.round(time_cummulative - table2[table[i]['j']-1]['t_obs'], 6)\n    table2[table[i]['j']- 1]['t_och'] = np.round(table2[ table[i]['j'] - 1]['t_nob']  - table2[table[i]['j']-1]['t_z'], 6)\n\n\n    devices[current_device]['j'] = 0\n    devices[current_device]['t_ost'] = 0\n\n    if len(queue) > 0:\n        tmp = queue.pop(0)\n        devices[current_device]['j'] = tmp[0]\n        devices[current_device]['t_ost'] = tmp[1]\n        table2[tmp[0] - 1]['k_j'] = current_device + 1\n\n    current_device = -1\n    min_time = np.inf\n    for j in range(n):\n        if devices[j]['j'] != 0 and min_time > devices[j]['t_ost']:\n            min_time = devices[j]['t_ost']\n            current_device = j\n    if current_device == -1:\n        table[i]['t_min'] = -1\n    else:\n        table[i]['t_min'] = min_time\n\n    i += 1\n\n\nt100 = table[99]['t_sob']\nfor i in range(n):\n    table3[i]['t_pr'] = t100 - table3[i]['t_zan']\n    table3[i]['delta_pr'] = table3[i]['t_pr']/t100\n\nnotnullindex = 0\nfor i in range(101):\n    if table4[i]['R_100'] != 0:\n        notnullindex = i\n\ntable4 = table4[:notnullindex + 1]\n\nfor i in range(len(table4)):\n    table4[i]['nu_100'] = table4[i]['R_100']/100\n    table4[i]['delta_100'] = table4[i]['T_100']/t100\n\ntable3.append({'N' : '', 't_zan' : 1/n * np.sum([table3[i]['t_zan'] for i in range(n)]),\n              't_pr' : 1/n * np.sum([table3[i]['t_pr'] for i in range(n)]),\n              'delta_pr' : 1/n * np.sum([table3[i]['delta_pr'] for i in range(n)])})\n\ntable4.append({'sost' : '', 'R_100' : np.sum([table4[i]['R_100'] for i in range(len(table4))]),\n              'nu_100' : np.sum([table4[i]['nu_100'] for i in range(len(table4))]),\n              'T_100' : np.sum([table4[i]['T_100'] for i in range(len(table4))]),\n              'delta_100' : np.sum([table4[i]['delta_100'] for i in range(len(table4))])})",
      "metadata": {
        "id": "tkHo11AC8hu9",
        "trusted": true
      },
      "outputs": [],
      "execution_count": 6
    },
    {
      "cell_type": "code",
      "source": "table = table[:100]\ntable_df = pd.DataFrame.from_dict(table)",
      "metadata": {
        "id": "N8TmXF9w8pE4",
        "trusted": true
      },
      "outputs": [],
      "execution_count": 7
    },
    {
      "cell_type": "code",
      "source": "table_df.head()",
      "metadata": {
        "colab": {
          "base_uri": "https://localhost:8080/",
          "height": 206
        },
        "id": "U_v1be9v8spz",
        "outputId": "d27a5e81-0064-4d3a-d937-a5b907c91a27",
        "trusted": true
      },
      "outputs": [
        {
          "execution_count": 8,
          "output_type": "execute_result",
          "data": {
            "text/plain": "   l  t_sob  type  c     t_min  t_ozh  j  k\n0  1  0.164     1  1  7.899937  0.164  1  1\n1  2  0.328     1  2  5.553318  0.164  2  2\n2  3  0.492     1  3  1.917907  0.164  3  3\n3  4  0.656     1  4  1.753907  0.164  4  4\n4  5  0.820     1  5  1.589907  0.164  5  5",
            "text/html": "<div>\n<style scoped>\n    .dataframe tbody tr th:only-of-type {\n        vertical-align: middle;\n    }\n\n    .dataframe tbody tr th {\n        vertical-align: top;\n    }\n\n    .dataframe thead th {\n        text-align: right;\n    }\n</style>\n<table border=\"1\" class=\"dataframe\">\n  <thead>\n    <tr style=\"text-align: right;\">\n      <th></th>\n      <th>l</th>\n      <th>t_sob</th>\n      <th>type</th>\n      <th>c</th>\n      <th>t_min</th>\n      <th>t_ozh</th>\n      <th>j</th>\n      <th>k</th>\n    </tr>\n  </thead>\n  <tbody>\n    <tr>\n      <th>0</th>\n      <td>1</td>\n      <td>0.164</td>\n      <td>1</td>\n      <td>1</td>\n      <td>7.899937</td>\n      <td>0.164</td>\n      <td>1</td>\n      <td>1</td>\n    </tr>\n    <tr>\n      <th>1</th>\n      <td>2</td>\n      <td>0.328</td>\n      <td>1</td>\n      <td>2</td>\n      <td>5.553318</td>\n      <td>0.164</td>\n      <td>2</td>\n      <td>2</td>\n    </tr>\n    <tr>\n      <th>2</th>\n      <td>3</td>\n      <td>0.492</td>\n      <td>1</td>\n      <td>3</td>\n      <td>1.917907</td>\n      <td>0.164</td>\n      <td>3</td>\n      <td>3</td>\n    </tr>\n    <tr>\n      <th>3</th>\n      <td>4</td>\n      <td>0.656</td>\n      <td>1</td>\n      <td>4</td>\n      <td>1.753907</td>\n      <td>0.164</td>\n      <td>4</td>\n      <td>4</td>\n    </tr>\n    <tr>\n      <th>4</th>\n      <td>5</td>\n      <td>0.820</td>\n      <td>1</td>\n      <td>5</td>\n      <td>1.589907</td>\n      <td>0.164</td>\n      <td>5</td>\n      <td>5</td>\n    </tr>\n  </tbody>\n</table>\n</div>"
          },
          "metadata": {}
        }
      ],
      "execution_count": 8
    },
    {
      "cell_type": "code",
      "source": "table_df.to_csv('table1_1.csv', index = False)",
      "metadata": {
        "id": "illhIEh68wj0",
        "trusted": true
      },
      "outputs": [],
      "execution_count": 9
    },
    {
      "cell_type": "code",
      "source": "table_df.tail()",
      "metadata": {
        "colab": {
          "base_uri": "https://localhost:8080/",
          "height": 206
        },
        "id": "QWEbP5V781el",
        "outputId": "5f6f1288-b1f9-45b1-d0d7-3d21632f62c5",
        "trusted": true
      },
      "outputs": [
        {
          "execution_count": 10,
          "output_type": "execute_result",
          "data": {
            "text/plain": "      l     t_sob  type   c     t_min     t_ozh   j   k\n95   96  9.184000     1  16  0.003518  0.164000  56  13\n96   97  9.187518     2  15  0.297893  0.160482  54  16\n97   98  9.348000     1  16  0.137411  0.164000  57  16\n98   99  9.485411     2  15  0.089002  0.026589  21  12\n99  100  9.512000     1  16  0.062413  0.164000  58  12",
            "text/html": "<div>\n<style scoped>\n    .dataframe tbody tr th:only-of-type {\n        vertical-align: middle;\n    }\n\n    .dataframe tbody tr th {\n        vertical-align: top;\n    }\n\n    .dataframe thead th {\n        text-align: right;\n    }\n</style>\n<table border=\"1\" class=\"dataframe\">\n  <thead>\n    <tr style=\"text-align: right;\">\n      <th></th>\n      <th>l</th>\n      <th>t_sob</th>\n      <th>type</th>\n      <th>c</th>\n      <th>t_min</th>\n      <th>t_ozh</th>\n      <th>j</th>\n      <th>k</th>\n    </tr>\n  </thead>\n  <tbody>\n    <tr>\n      <th>95</th>\n      <td>96</td>\n      <td>9.184000</td>\n      <td>1</td>\n      <td>16</td>\n      <td>0.003518</td>\n      <td>0.164000</td>\n      <td>56</td>\n      <td>13</td>\n    </tr>\n    <tr>\n      <th>96</th>\n      <td>97</td>\n      <td>9.187518</td>\n      <td>2</td>\n      <td>15</td>\n      <td>0.297893</td>\n      <td>0.160482</td>\n      <td>54</td>\n      <td>16</td>\n    </tr>\n    <tr>\n      <th>97</th>\n      <td>98</td>\n      <td>9.348000</td>\n      <td>1</td>\n      <td>16</td>\n      <td>0.137411</td>\n      <td>0.164000</td>\n      <td>57</td>\n      <td>16</td>\n    </tr>\n    <tr>\n      <th>98</th>\n      <td>99</td>\n      <td>9.485411</td>\n      <td>2</td>\n      <td>15</td>\n      <td>0.089002</td>\n      <td>0.026589</td>\n      <td>21</td>\n      <td>12</td>\n    </tr>\n    <tr>\n      <th>99</th>\n      <td>100</td>\n      <td>9.512000</td>\n      <td>1</td>\n      <td>16</td>\n      <td>0.062413</td>\n      <td>0.164000</td>\n      <td>58</td>\n      <td>12</td>\n    </tr>\n  </tbody>\n</table>\n</div>"
          },
          "metadata": {}
        }
      ],
      "execution_count": 10
    },
    {
      "cell_type": "code",
      "source": "table_2_df = pd.DataFrame.from_dict(table2)",
      "metadata": {
        "id": "n53TsyH_868g",
        "trusted": true
      },
      "outputs": [],
      "execution_count": 11
    },
    {
      "cell_type": "code",
      "source": "table_2_df.to_csv('table1_2.csv', index = False)",
      "metadata": {
        "id": "g2C0g6yO88b0",
        "trusted": true
      },
      "outputs": [],
      "execution_count": 12
    },
    {
      "cell_type": "code",
      "source": "table_3_df = pd.DataFrame.from_dict(table3)\ntable_3_df.to_csv('table1_3.csv', index = False)\ntable_4_df = pd.DataFrame.from_dict(table4)\ntable_4_df.to_csv('table1_4.csv', index = False)",
      "metadata": {
        "id": "Qfy0NQTT8-_t",
        "trusted": true
      },
      "outputs": [],
      "execution_count": 13
    },
    {
      "cell_type": "code",
      "source": "table_3_df",
      "metadata": {
        "colab": {
          "base_uri": "https://localhost:8080/",
          "height": 363
        },
        "id": "bwFeoduW8_DK",
        "outputId": "143de7d2-bfa1-4516-929d-10427a87b8f9",
        "trusted": true
      },
      "outputs": [
        {
          "execution_count": 14,
          "output_type": "execute_result",
          "data": {
            "text/plain": "     N     t_zan      t_pr  delta_pr\n0    1  9.211937  0.300063  0.031546\n1    2  9.161318  0.350682  0.036867\n2    3  8.870414  0.641586  0.067450\n3    4  8.762143  0.749857  0.078833\n4    5  8.163195  1.348805  0.141800\n5    6  8.333695  1.178305  0.123876\n6    7  7.488752  2.023248  0.212705\n7    8  6.501940  3.010060  0.316449\n8    9  6.264375  3.247625  0.341424\n9   10  6.810442  2.701558  0.284016\n10  11  5.680926  3.831074  0.402762\n11  12  6.646014  2.865986  0.301302\n12  13  4.015187  5.496813  0.577882\n13  14  2.039462  7.472538  0.785591\n14  15  1.804000  7.708000  0.810345\n15  16  0.495518  9.016482  0.947906\n16      6.265582  3.246418  0.341297",
            "text/html": "<div>\n<style scoped>\n    .dataframe tbody tr th:only-of-type {\n        vertical-align: middle;\n    }\n\n    .dataframe tbody tr th {\n        vertical-align: top;\n    }\n\n    .dataframe thead th {\n        text-align: right;\n    }\n</style>\n<table border=\"1\" class=\"dataframe\">\n  <thead>\n    <tr style=\"text-align: right;\">\n      <th></th>\n      <th>N</th>\n      <th>t_zan</th>\n      <th>t_pr</th>\n      <th>delta_pr</th>\n    </tr>\n  </thead>\n  <tbody>\n    <tr>\n      <th>0</th>\n      <td>1</td>\n      <td>9.211937</td>\n      <td>0.300063</td>\n      <td>0.031546</td>\n    </tr>\n    <tr>\n      <th>1</th>\n      <td>2</td>\n      <td>9.161318</td>\n      <td>0.350682</td>\n      <td>0.036867</td>\n    </tr>\n    <tr>\n      <th>2</th>\n      <td>3</td>\n      <td>8.870414</td>\n      <td>0.641586</td>\n      <td>0.067450</td>\n    </tr>\n    <tr>\n      <th>3</th>\n      <td>4</td>\n      <td>8.762143</td>\n      <td>0.749857</td>\n      <td>0.078833</td>\n    </tr>\n    <tr>\n      <th>4</th>\n      <td>5</td>\n      <td>8.163195</td>\n      <td>1.348805</td>\n      <td>0.141800</td>\n    </tr>\n    <tr>\n      <th>5</th>\n      <td>6</td>\n      <td>8.333695</td>\n      <td>1.178305</td>\n      <td>0.123876</td>\n    </tr>\n    <tr>\n      <th>6</th>\n      <td>7</td>\n      <td>7.488752</td>\n      <td>2.023248</td>\n      <td>0.212705</td>\n    </tr>\n    <tr>\n      <th>7</th>\n      <td>8</td>\n      <td>6.501940</td>\n      <td>3.010060</td>\n      <td>0.316449</td>\n    </tr>\n    <tr>\n      <th>8</th>\n      <td>9</td>\n      <td>6.264375</td>\n      <td>3.247625</td>\n      <td>0.341424</td>\n    </tr>\n    <tr>\n      <th>9</th>\n      <td>10</td>\n      <td>6.810442</td>\n      <td>2.701558</td>\n      <td>0.284016</td>\n    </tr>\n    <tr>\n      <th>10</th>\n      <td>11</td>\n      <td>5.680926</td>\n      <td>3.831074</td>\n      <td>0.402762</td>\n    </tr>\n    <tr>\n      <th>11</th>\n      <td>12</td>\n      <td>6.646014</td>\n      <td>2.865986</td>\n      <td>0.301302</td>\n    </tr>\n    <tr>\n      <th>12</th>\n      <td>13</td>\n      <td>4.015187</td>\n      <td>5.496813</td>\n      <td>0.577882</td>\n    </tr>\n    <tr>\n      <th>13</th>\n      <td>14</td>\n      <td>2.039462</td>\n      <td>7.472538</td>\n      <td>0.785591</td>\n    </tr>\n    <tr>\n      <th>14</th>\n      <td>15</td>\n      <td>1.804000</td>\n      <td>7.708000</td>\n      <td>0.810345</td>\n    </tr>\n    <tr>\n      <th>15</th>\n      <td>16</td>\n      <td>0.495518</td>\n      <td>9.016482</td>\n      <td>0.947906</td>\n    </tr>\n    <tr>\n      <th>16</th>\n      <td></td>\n      <td>6.265582</td>\n      <td>3.246418</td>\n      <td>0.341297</td>\n    </tr>\n  </tbody>\n</table>\n</div>"
          },
          "metadata": {}
        }
      ],
      "execution_count": 14
    },
    {
      "cell_type": "code",
      "source": "table_4_df",
      "metadata": {
        "colab": {
          "base_uri": "https://localhost:8080/",
          "height": 488
        },
        "id": "Ms08gLFy88fV",
        "outputId": "8461a785-e6df-4039-c87f-e2295a143916",
        "trusted": true
      },
      "outputs": [
        {
          "execution_count": 15,
          "output_type": "execute_result",
          "data": {
            "text/plain": "   sost  R_100  nu_100     T_100  delta_100\n0     0      1    0.01  0.164000   0.017241\n1     1      1    0.01  0.164000   0.017241\n2     2      1    0.01  0.164000   0.017241\n3     3      1    0.01  0.164000   0.017241\n4     4      1    0.01  0.164000   0.017241\n5     5      1    0.01  0.164000   0.017241\n6     6      1    0.01  0.164000   0.017241\n7     7      1    0.01  0.164000   0.017241\n8     8      6    0.06  0.455188   0.047854\n9     9     11    0.11  0.934115   0.098204\n10   10     13    0.13  1.024658   0.107723\n11   11     18    0.18  1.885550   0.198229\n12   12     15    0.15  1.232197   0.129541\n13   13      9    0.09  0.883891   0.092924\n14   14      8    0.08  0.805929   0.084728\n15   15      7    0.07  0.594356   0.062485\n16   16      4    0.04  0.305445   0.032112\n17   17      1    0.01  0.078671   0.008271\n18         100    1.00  9.512000   1.000000",
            "text/html": "<div>\n<style scoped>\n    .dataframe tbody tr th:only-of-type {\n        vertical-align: middle;\n    }\n\n    .dataframe tbody tr th {\n        vertical-align: top;\n    }\n\n    .dataframe thead th {\n        text-align: right;\n    }\n</style>\n<table border=\"1\" class=\"dataframe\">\n  <thead>\n    <tr style=\"text-align: right;\">\n      <th></th>\n      <th>sost</th>\n      <th>R_100</th>\n      <th>nu_100</th>\n      <th>T_100</th>\n      <th>delta_100</th>\n    </tr>\n  </thead>\n  <tbody>\n    <tr>\n      <th>0</th>\n      <td>0</td>\n      <td>1</td>\n      <td>0.01</td>\n      <td>0.164000</td>\n      <td>0.017241</td>\n    </tr>\n    <tr>\n      <th>1</th>\n      <td>1</td>\n      <td>1</td>\n      <td>0.01</td>\n      <td>0.164000</td>\n      <td>0.017241</td>\n    </tr>\n    <tr>\n      <th>2</th>\n      <td>2</td>\n      <td>1</td>\n      <td>0.01</td>\n      <td>0.164000</td>\n      <td>0.017241</td>\n    </tr>\n    <tr>\n      <th>3</th>\n      <td>3</td>\n      <td>1</td>\n      <td>0.01</td>\n      <td>0.164000</td>\n      <td>0.017241</td>\n    </tr>\n    <tr>\n      <th>4</th>\n      <td>4</td>\n      <td>1</td>\n      <td>0.01</td>\n      <td>0.164000</td>\n      <td>0.017241</td>\n    </tr>\n    <tr>\n      <th>5</th>\n      <td>5</td>\n      <td>1</td>\n      <td>0.01</td>\n      <td>0.164000</td>\n      <td>0.017241</td>\n    </tr>\n    <tr>\n      <th>6</th>\n      <td>6</td>\n      <td>1</td>\n      <td>0.01</td>\n      <td>0.164000</td>\n      <td>0.017241</td>\n    </tr>\n    <tr>\n      <th>7</th>\n      <td>7</td>\n      <td>1</td>\n      <td>0.01</td>\n      <td>0.164000</td>\n      <td>0.017241</td>\n    </tr>\n    <tr>\n      <th>8</th>\n      <td>8</td>\n      <td>6</td>\n      <td>0.06</td>\n      <td>0.455188</td>\n      <td>0.047854</td>\n    </tr>\n    <tr>\n      <th>9</th>\n      <td>9</td>\n      <td>11</td>\n      <td>0.11</td>\n      <td>0.934115</td>\n      <td>0.098204</td>\n    </tr>\n    <tr>\n      <th>10</th>\n      <td>10</td>\n      <td>13</td>\n      <td>0.13</td>\n      <td>1.024658</td>\n      <td>0.107723</td>\n    </tr>\n    <tr>\n      <th>11</th>\n      <td>11</td>\n      <td>18</td>\n      <td>0.18</td>\n      <td>1.885550</td>\n      <td>0.198229</td>\n    </tr>\n    <tr>\n      <th>12</th>\n      <td>12</td>\n      <td>15</td>\n      <td>0.15</td>\n      <td>1.232197</td>\n      <td>0.129541</td>\n    </tr>\n    <tr>\n      <th>13</th>\n      <td>13</td>\n      <td>9</td>\n      <td>0.09</td>\n      <td>0.883891</td>\n      <td>0.092924</td>\n    </tr>\n    <tr>\n      <th>14</th>\n      <td>14</td>\n      <td>8</td>\n      <td>0.08</td>\n      <td>0.805929</td>\n      <td>0.084728</td>\n    </tr>\n    <tr>\n      <th>15</th>\n      <td>15</td>\n      <td>7</td>\n      <td>0.07</td>\n      <td>0.594356</td>\n      <td>0.062485</td>\n    </tr>\n    <tr>\n      <th>16</th>\n      <td>16</td>\n      <td>4</td>\n      <td>0.04</td>\n      <td>0.305445</td>\n      <td>0.032112</td>\n    </tr>\n    <tr>\n      <th>17</th>\n      <td>17</td>\n      <td>1</td>\n      <td>0.01</td>\n      <td>0.078671</td>\n      <td>0.008271</td>\n    </tr>\n    <tr>\n      <th>18</th>\n      <td></td>\n      <td>100</td>\n      <td>1.00</td>\n      <td>9.512000</td>\n      <td>1.000000</td>\n    </tr>\n  </tbody>\n</table>\n</div>"
          },
          "metadata": {}
        }
      ],
      "execution_count": 15
    },
    {
      "cell_type": "code",
      "source": "serv_demands = 57\nprint(f\"Count of served demands: {serv_demands}\")\nz = 0\nfor i in range(100):\n    cnt = 0\n    t_event = table[i]['t_sob']\n    for j in range(len(table1)):\n        if table1[j]['t_z'] >= t_event:\n            cnt += 1\n    z += cnt\nprint(f\"z(100): {z/100}\")\n\nsum_q_time = 0\nsum_stay_time = 0\nfor i in range(serv_demands):\n    sum_q_time += table1[i]['t_och']\n    sum_stay_time += (table1[i]['t_kob'] - table1[i]['t_z'])\nq_time_mean = sum_q_time / serv_demands\nprint(f\"q_time_mean: {round(q_time_mean, 5)}\")\nstay_time_mean = sum_stay_time / serv_demands\nprint(f\"stay_time_mean: {round(stay_time_mean, 5)}\")",
      "metadata": {
        "id": "w4ZtGtk_iOq5",
        "trusted": true
      },
      "outputs": [
        {
          "name": "stdout",
          "text": "Count of served demands: 57\n",
          "output_type": "stream"
        },
        {
          "ename": "<class 'NameError'>",
          "evalue": "name 'table1' is not defined",
          "traceback": [
            "\u001b[0;31m---------------------------------------------------------------------------\u001b[0m",
            "\u001b[0;31mNameError\u001b[0m                                 Traceback (most recent call last)",
            "Cell \u001b[0;32mIn[16], line 7\u001b[0m\n\u001b[1;32m      5\u001b[0m cnt \u001b[38;5;241m=\u001b[39m \u001b[38;5;241m0\u001b[39m\n\u001b[1;32m      6\u001b[0m t_event \u001b[38;5;241m=\u001b[39m table[i][\u001b[38;5;124m'\u001b[39m\u001b[38;5;124mt_sob\u001b[39m\u001b[38;5;124m'\u001b[39m]\n\u001b[0;32m----> 7\u001b[0m \u001b[38;5;28;01mfor\u001b[39;00m j \u001b[38;5;129;01min\u001b[39;00m \u001b[38;5;28mrange\u001b[39m(\u001b[38;5;28mlen\u001b[39m(\u001b[43mtable1\u001b[49m)):\n\u001b[1;32m      8\u001b[0m     \u001b[38;5;28;01mif\u001b[39;00m table1[j][\u001b[38;5;124m'\u001b[39m\u001b[38;5;124mt_z\u001b[39m\u001b[38;5;124m'\u001b[39m] \u001b[38;5;241m>\u001b[39m\u001b[38;5;241m=\u001b[39m t_event:\n\u001b[1;32m      9\u001b[0m         cnt \u001b[38;5;241m+\u001b[39m\u001b[38;5;241m=\u001b[39m \u001b[38;5;241m1\u001b[39m\n",
            "\u001b[0;31mNameError\u001b[0m: name 'table1' is not defined"
          ],
          "output_type": "error"
        }
      ],
      "execution_count": 16
    },
    {
      "cell_type": "markdown",
      "source": "Задание 2",
      "metadata": {
        "id": "JdLrG17H9KNe"
      }
    },
    {
      "cell_type": "code",
      "source": "table = [{'l' : 0, 't_sob' : 0, 'type' : 0, 'c' : 0, 't_min' : 0, 't_ozh' : 0, 'j' : 0, 'k' : 0} for i in range(100)]\ndevices = [{'j' : 0, 'k' : i + 1, 't_ost' : 0} for i in range(n)]\ntable2 = []\ntable3 = [{'N' : i + 1, 't_zan' : 0, 't_pr' : 0, 'delta_pr' : 0} for i in range(n)]\ntable4 = [{'sost' : i, 'R_100' : 0, 'nu_100' : 0 , 'T_100' : 0,  'delta_100' : 0 } for i in range(101)]\n\nfor i in range(n):\n    devices[i]['k'] = i + 1\nqueue = []\ncurrent_device = -1\ntime_cummulative = 0\nmin_time = 0\ntotal_j = 0",
      "metadata": {
        "id": "YrL9DZmb9HDD",
        "trusted": true
      },
      "outputs": [],
      "execution_count": 17
    },
    {
      "cell_type": "code",
      "source": "for i in range(100):\n\n    if current_device == -1:\n\n        dT =  np.round(np.random.exponential(lambd), 6)\n        current_device = 0\n        total_j += 1\n        min_time = np.round(np.random.exponential(mu), 6)\n        if i == 0:\n            time_cummulative += dT\n            table4[0]['T_100'] += dT\n        else:\n            time_cummulative += table[i-1]['t_ozh']\n            table4[0]['T_100'] += table[i-1]['t_ozh']\n\n        table4[0]['R_100'] += 1\n\n        table[i]['l'] = i + 1\n        table[i]['j'] = total_j\n        table[i]['t_sob'] = time_cummulative\n        table[i]['type'] = 1\n        table[i]['c'] = 1\n        table[i]['t_min'] = min_time\n        table[i]['t_ozh'] = dT\n        table[i]['k'] = 1\n\n        devices[0]['j'] = total_j\n        devices[0]['t_ost'] = min_time\n\n        table2.append({'j' : total_j, 't_z' : time_cummulative, 'q_j' : 0, 't_och' : 0, 't_nob' : 0, 't_obs' : min_time,\n                       't_kob' : 0, 'k_j' : 1})\n\n\n    elif min_time < table[i-1]['t_ozh']:\n\n        time_cummulative += min_time\n\n        for j in range(n):\n            if devices[j]['j'] != 0:\n                devices[j]['t_ost'] -= min_time\n                table3[j]['t_zan'] += min_time\n        table4[table[i-1]['c']]['T_100'] += min_time\n        table4[table[i-1]['c']]['R_100'] += 1\n\n        table[i]['l'] = i + 1\n        table[i]['j'] = devices[current_device]['j']\n        table[i]['t_sob'] = time_cummulative\n        table[i]['t_ozh'] = np.round(table[i-1]['t_ozh'] - min_time, 6)\n        table[i]['type'] = 2\n        table[i]['c'] = table[i-1]['c'] - 1\n        table[i]['k'] = current_device + 1\n\n        table2[table[i]['j'] - 1]['t_kob'] = np.round(time_cummulative, 6)\n        table2[table[i]['j'] - 1]['t_nob'] = np.round(time_cummulative - table2[table[i]['j']-1]['t_obs'], 6)\n        table2[table[i]['j']- 1]['t_och'] = np.round(table2[ table[i]['j'] - 1]['t_nob']  - table2[table[i]['j']-1]['t_z'], 6)\n\n\n        devices[current_device]['j'] = 0\n        devices[current_device]['t_ost'] = 0\n\n        if len(queue) > 0:\n            tmp = queue.pop(0)\n            devices[current_device]['j'] = tmp[0]\n            devices[current_device]['t_ost'] = tmp[1]\n            table2[tmp[0] - 1]['k_j'] = current_device + 1\n\n        current_device = -1\n        min_time = np.inf\n        for j in range(n):\n            if devices[j]['j'] != 0 and min_time > devices[j]['t_ost']:\n                min_time = devices[j]['t_ost']\n                current_device = j\n        if current_device == -1:\n            table[i]['t_min'] = -1\n        else:\n            table[i]['t_min'] = min_time\n\n    else:\n        dT =  np.round(np.random.exponential(lambd), 6)\n        min_time -= table[i-1]['t_ozh']\n        time_cummulative += table[i - 1]['t_ozh']\n        total_j += 1\n        for j in range(n):\n            if devices[j]['j'] != 0:\n                devices[j]['t_ost'] -= table[i - 1]['t_ozh']\n                table3[j]['t_zan'] += table[i - 1]['t_ozh']\n\n        table4[table[i-1]['c']]['T_100'] += table[i-1]['t_ozh']\n        table4[table[i-1]['c']]['R_100'] += 1\n\n\n        table[i]['l'] = i + 1\n        table[i]['j'] = total_j\n        table[i]['t_sob'] = time_cummulative\n        table[i]['t_ozh'] = dT\n        table[i]['type'] = 1\n        table[i]['c'] = table[i-1]['c'] + 1\n\n        counter = -1\n        for j in range(n):\n            if devices[j]['j'] == 0:\n                counter = j\n                break\n\n\n        if counter == -1:\n            queue.append([total_j, np.round(np.random.exponential(mu), 6)])\n            table[i]['k'] = -1\n            table2.append({'j' : total_j, 't_z' : time_cummulative, 'q_j' : len(queue), 't_och' : 0, 't_nob' : 0, 't_obs' : min_time,\n                       't_kob' : 0, 'k_j' : -1})\n        else:\n            devices[counter]['j'] = total_j\n            devices[counter]['t_ost'] = np.round(np.random.exponential(mu), 6)\n            if devices[counter]['t_ost'] < min_time:\n                min_time = devices[counter]['t_ost']\n                current_device = counter\n            table[i]['k'] = counter + 1\n            table2.append({'j' : total_j, 't_z' : time_cummulative, 'q_j' : 0, 't_och' : 0, 't_nob' : 0, 't_obs' : devices[counter]['t_ost'],\n                       't_kob' : 0, 'k_j' : counter + 1})\n\n        table[i]['t_min'] = min_time\n\n\nend_service_flg = False\ni = 100\n\nwhile True:\n\n    if len(queue) == 0:\n        end_service_flg = True\n        for j in range(n):\n            if devices[j]['j'] != 0:\n                end_service_flg = False\n                break\n        if end_service_flg:\n            break\n\n\n    time_cummulative += min_time\n    table.append({'l' : 0, 't_sob' : 0, 'type' : 0, 'c' : 0, 't_min' : 0, 't_ozh' : 0, 'j' : 0, 'k' : 0})\n\n    for j in range(n):\n        if devices[j]['j'] != 0:\n            devices[j]['t_ost'] -= min_time\n\n    table[i]['l'] = i + 1\n    table[i]['j'] = devices[current_device]['j']\n    table[i]['t_sob'] = time_cummulative\n    table[i]['t_ozh'] = np.round(table[i-1]['t_ozh'] - min_time, 6)\n    table[i]['type'] = 2\n    table[i]['c'] = table[i-1]['c'] - 1\n    table[i]['k'] = current_device + 1\n\n    table2[table[i]['j'] - 1]['t_kob'] = np.round(time_cummulative, 6)\n    table2[table[i]['j'] - 1]['t_nob'] = np.round(time_cummulative - table2[table[i]['j']-1]['t_obs'], 6)\n    table2[table[i]['j']- 1]['t_och'] = np.round(table2[ table[i]['j'] - 1]['t_nob']  - table2[table[i]['j']-1]['t_z'], 6)\n\n\n    devices[current_device]['j'] = 0\n    devices[current_device]['t_ost'] = 0\n\n    if len(queue) > 0:\n        tmp = queue.pop(0)\n        devices[current_device]['j'] = tmp[0]\n        devices[current_device]['t_ost'] = tmp[1]\n        table2[tmp[0] - 1]['k_j'] = current_device + 1\n\n    current_device = -1\n    min_time = np.inf\n    for j in range(n):\n        if devices[j]['j'] != 0 and min_time > devices[j]['t_ost']:\n            min_time = devices[j]['t_ost']\n            current_device = j\n    if current_device == -1:\n        table[i]['t_min'] = -1\n    else:\n        table[i]['t_min'] = min_time\n\n    i += 1\n\n\nt100 = table[99]['t_sob']\nfor i in range(n):\n    table3[i]['t_pr'] = t100 - table3[i]['t_zan']\n    table3[i]['delta_pr'] = table3[i]['t_pr']/t100\n\nnotnullindex = 0\nfor i in range(101):\n    if table4[i]['R_100'] != 0:\n        notnullindex = i\n\ntable4 = table4[:notnullindex + 1]\n\nfor i in range(len(table4)):\n    table4[i]['nu_100'] = table4[i]['R_100']/100\n    table4[i]['delta_100'] = table4[i]['T_100']/t100\n\ntable3.append({'N' : '', 't_zan' : 1/n * np.sum([table3[i]['t_zan'] for i in range(n)]),\n              't_pr' : 1/n * np.sum([table3[i]['t_pr'] for i in range(n)]),\n              'delta_pr' : 1/n * np.sum([table3[i]['delta_pr'] for i in range(n)])})\n\ntable4.append({'sost' : '', 'R_100' : np.sum([table4[i]['R_100'] for i in range(len(table4))]),\n              'nu_100' : np.sum([table4[i]['nu_100'] for i in range(len(table4))]),\n              'T_100' : np.sum([table4[i]['T_100'] for i in range(len(table4))]),\n              'delta_100' : np.sum([table4[i]['delta_100'] for i in range(len(table4))])})",
      "metadata": {
        "id": "rcVhK6jk9HGa",
        "trusted": true
      },
      "outputs": [],
      "execution_count": 18
    },
    {
      "cell_type": "code",
      "source": "table = table[:100]\ntable_df = pd.DataFrame.from_dict(table)\ntable2_df = pd.DataFrame.from_dict(table2)\ntable3_df = pd.DataFrame.from_dict(table3)\ntable4_df = pd.DataFrame.from_dict(table4)\ntable_df.to_csv('table2_1.csv')\ntable2_df.to_csv('table2_2.csv')\ntable3_df.to_csv('table2_3.csv')\ntable4_df.to_csv('table2_4.csv')\nprint (table2_df)",
      "metadata": {
        "id": "IQ6Hm0hQ9TkM",
        "trusted": true
      },
      "outputs": [
        {
          "name": "stdout",
          "text": "     j       t_z  q_j     t_och     t_nob      t_obs      t_kob  k_j\n0    1  0.171698    0  0.000000  0.171698   2.035662   2.207360    1\n1    2  0.343396    0  0.000000  0.343396   0.883227   1.226623    2\n2    3  0.448758    0  0.000000  0.448758   3.891523   4.340281    3\n3    4  0.855087    0  0.000000  0.855087   1.893065   2.748152    4\n4    5  0.953087    0  0.000000  0.953087   4.531320   5.484407    5\n5    6  1.164631    0  0.000000  1.164631   0.333265   1.497896    6\n6    7  1.240799    0  0.000000  1.240799   1.144557   2.385356    2\n7    8  1.260523    0  0.000000  1.260523   4.489412   5.749935    7\n8    9  1.598124    0  0.000000  1.598124   2.734887   4.333011    6\n9   10  1.641647    0  0.000000  1.641647   1.807867   3.449514    8\n10  11  1.665834    0  0.000000  1.665834   0.345606   2.011440    9\n11  12  1.733142    0  0.000000  1.733142   1.460102   3.193244   10\n12  13  1.853877    0  0.000000  1.853877   3.914556   5.768433   11\n13  14  2.064378    0  0.000000  2.064378   0.174769   2.239147    9\n14  15  2.152809    0  0.000000  2.152809   5.013447   7.166256   12\n15  16  2.203062    0  0.000000  2.203062   2.873778   5.076840   13\n16  17  2.379993    0  0.000000  2.379993   1.286609   3.666602    1\n17  18  2.448928    0  0.000000  2.448928   2.882582   5.331510    2\n18  19  2.590379    0  0.000000  2.590379   0.430269   3.020648    9\n19  20  2.730575    0  0.000000  2.730575   5.160932   7.891507   14\n20  21  2.815853    0  0.000000  2.815853   0.241516   3.057369    4\n21  22  2.974686    0  0.000000  2.974686   3.239446   6.214132   15\n22  23  2.985864    0  0.000000  2.985864   0.887262   3.873126   16\n23  24  2.998093    1  0.335097  3.333190   0.022555   3.355745    9\n24  25  3.057983    0  0.000000  3.057983   0.931017   3.989000    4\n25  26  3.336701    0 -0.000000  3.336701   1.162150   4.498851   10\n26  27  4.165616    0  0.000000  4.165616  12.669300  16.834916    1\n27  28  4.363066    0 -0.000000  4.363066   1.050331   5.413397    3\n28  29  4.571324    0  0.000000  4.571324   0.651100   5.222424    4\n29  30  4.664366    0  0.000000  4.664366   2.002588   6.666954    6\n30  31  4.683357    0  0.000000  4.683357   0.850249   5.533606    8\n31  32  4.742094    0  0.000000  4.742094   0.108241   4.850335    9\n32  33  4.786821    0  0.000000  4.786821   1.576609   6.363430   10\n33  34  4.793252    0  0.000000  4.793252   2.303323   7.096575   16\n34  35  4.809573    1  2.308921  7.118494   0.040762   7.159256    9\n35  36  4.822776    2  1.528344  6.351120   0.027559   6.378679   13\n36  37  4.940406    2  2.820962  7.761368   0.136434   7.897802    4\n37  38  5.311611    1  0.715009  6.026620   0.019899   6.046519    2\n38  39  5.326887    2  1.462597  6.789484   0.004623   6.794107    3\n39  40  5.448401    1  0.805157  6.253558   0.036006   6.289564    5\n40  41  5.552750    0  0.000000  5.552750   5.364034  10.916784    8\n41  42  5.717483    1  3.339096  9.056579   0.032452   9.089031    7\n42  43  6.146379    0  0.000000  6.146379   1.851395   7.997774    2\n43  44  6.206222    0  0.000000  6.206222   2.977975   9.184197   11\n44  45  6.720420    0  0.000000  6.720420  14.199208  20.919628    5\n45  46  6.752688    0  0.000000  6.752688   0.207032   6.959720    6\n46  47  6.784605    0  0.000000  6.784605   0.315612   7.100217   10\n47  48  6.873131    0  0.000000  6.873131   4.839837  11.712968    3\n48  49  6.901440    0  0.000000  6.901440   1.726285   8.627725   13\n49  50  7.097642    0  0.000000  7.097642   7.458202  14.555844    6\n50  51  7.142006    0  0.000000  7.142006   3.950878  11.092884   10\n51  52  7.459615    0  0.000000  7.459615   1.007077   8.466692    9\n52  53  7.533582    0  0.000000  7.533582   8.345531  15.879113   12\n53  54  7.633642    0  0.000000  7.633642   1.243327   8.876969   15\n54  55  7.833537    0  0.000000  7.833537   0.926118   8.759655   16\n55  56  8.188868    0  0.000000  8.188868   3.977548  12.166416    2\n56  57  8.380009    0  0.000000  8.380009   0.363662   8.743671    4\n57  58  8.420220    0  0.000000  8.420220   0.632363   9.052583   14\n",
          "output_type": "stream"
        }
      ],
      "execution_count": 74
    },
    {
      "cell_type": "markdown",
      "source": "Задача 3",
      "metadata": {
        "id": "QAfnJHVn9fCR"
      }
    },
    {
      "cell_type": "code",
      "source": "table = [{'l' : 0, 't_sob' : 0, 'type' : 0, 'c' : 0, 't_min' : 0, 't_ozh' : 0, 'j' : 0, 'k' : 0} for i in range(100)]\ndevices = [{'j' : 0, 'k' : i + 1, 't_ost' : 0} for i in range(n)]\ntable2 = []\ntable3 = [{'N' : i + 1, 't_zan' : 0, 't_pr' : 0, 'delta_pr' : 0} for i in range(n)]\ntable4 = [{'sost' : i, 'R_100' : 0, 'nu_100' : 0 , 'T_100' : 0,  'delta_100' : 0 } for i in range(101)]\n\nfor i in range(n):\n    devices[i]['k'] = i + 1\nqueue = []\ncurrent_device = -1\ntime_cummulative = 0\nmin_time = 0\ntotal_j = 0",
      "metadata": {
        "id": "B6g0ISdc9b8i",
        "trusted": true
      },
      "outputs": [],
      "execution_count": 20
    },
    {
      "cell_type": "code",
      "source": "for i in range(100):\n\n    if current_device == -1:\n\n        dT =  np.round(np.random.exponential(lambd), 6)\n        current_device = 0\n        total_j += 1\n        min_time = np.round(np.random.exponential(mu), 6)\n        if i == 0:\n            time_cummulative += dT\n            table4[0]['T_100'] += dT\n        else:\n            time_cummulative += table[i-1]['t_ozh']\n            table4[0]['T_100'] += table[i-1]['t_ozh']\n\n        table4[0]['R_100'] += 1\n\n        table[i]['l'] = i + 1\n        table[i]['j'] = total_j\n        table[i]['t_sob'] = time_cummulative\n        table[i]['type'] = 1\n        table[i]['c'] = 1\n        table[i]['t_min'] = min_time\n        table[i]['t_ozh'] = dT\n        table[i]['k'] = 1\n\n        devices[0]['j'] = total_j\n        devices[0]['t_ost'] = min_time\n\n        table2.append({'j' : total_j, 't_z' : time_cummulative, 'q_j' : 0, 't_och' : 0, 't_nob' : 0, 't_obs' : min_time,\n                       't_kob' : 0, 'k_j' : 1})\n\n\n    elif min_time < table[i-1]['t_ozh']:\n\n        time_cummulative += min_time\n\n        for j in range(n):\n            if devices[j]['j'] != 0:\n                devices[j]['t_ost'] -= min_time\n                table3[j]['t_zan'] += min_time\n        table4[table[i-1]['c']]['T_100'] += min_time\n        table4[table[i-1]['c']]['R_100'] += 1\n\n        table[i]['l'] = i + 1\n        table[i]['j'] = devices[current_device]['j']\n        table[i]['t_sob'] = time_cummulative\n        table[i]['t_ozh'] = np.round(table[i-1]['t_ozh'] - min_time, 6)\n        table[i]['type'] = 3\n        table[i]['c'] = table[i-1]['c'] - 1\n        table[i]['k'] = current_device + 1\n\n        table2[table[i]['j'] - 1]['t_kob'] = np.round(time_cummulative, 6)\n        table2[table[i]['j'] - 1]['t_nob'] = np.round(time_cummulative - table2[table[i]['j']-1]['t_obs'], 6)\n        table2[table[i]['j']- 1]['t_och'] = np.round(table2[ table[i]['j'] - 1]['t_nob']  - table2[table[i]['j']-1]['t_z'], 6)\n\n\n        devices[current_device]['j'] = 0\n        devices[current_device]['t_ost'] = 0\n\n        if len(queue) > 0:\n            tmp = queue.pop(0)\n            devices[current_device]['j'] = tmp[0]\n            devices[current_device]['t_ost'] = tmp[1]\n            table2[tmp[0] - 1]['k_j'] = current_device + 1\n\n        current_device = -1\n        min_time = np.inf\n        for j in range(n):\n            if devices[j]['j'] != 0 and min_time > devices[j]['t_ost']:\n                min_time = devices[j]['t_ost']\n                current_device = j\n        if current_device == -1:\n            table[i]['t_min'] = -1\n        else:\n            table[i]['t_min'] = min_time\n\n    else:\n        dT =  np.round(np.random.exponential(lambd), 6)\n        min_time -= table[i-1]['t_ozh']\n        time_cummulative += table[i - 1]['t_ozh']\n        total_j += 1\n        for j in range(n):\n            if devices[j]['j'] != 0:\n                devices[j]['t_ost'] -= table[i - 1]['t_ozh']\n                table3[j]['t_zan'] += table[i - 1]['t_ozh']\n\n        table4[table[i-1]['c']]['T_100'] += table[i-1]['t_ozh']\n        table4[table[i-1]['c']]['R_100'] += 1\n\n\n        table[i]['l'] = i + 1\n        table[i]['j'] = total_j\n        table[i]['t_sob'] = time_cummulative\n        table[i]['t_ozh'] = dT\n        table[i]['type'] = 1\n        table[i]['c'] = table[i-1]['c'] + 1\n\n        counter = -1\n        for j in range(n):\n            if devices[j]['j'] == 0:\n                counter = j\n                break\n\n\n        if counter == -1:\n            if len(queue) < m:\n                queue.append([total_j, np.round(np.random.exponential(mu), 6)])\n                table2.append({'j' : total_j, 't_z' : time_cummulative, 'q_j' : len(queue), 't_och' : 0, 't_nob' : 0, 't_obs' : min_time,\n                       't_kob' : 0, 'k_j' : -1})\n            else:\n                table[i]['type'] = 2\n                table[i]['c'] = table[i-1]['c']\n                table2.append({'j' : total_j, 't_z' : time_cummulative, 'q_j' : -1, 't_och' : 0, 't_nob' : -1, 't_obs' : 0,\n                       't_kob' : time_cummulative, 'k_j' : -2})\n            table[i]['k'] = -1\n        else:\n            devices[counter]['j'] = total_j\n            devices[counter]['t_ost'] = np.round(np.random.exponential(mu), 6)\n            if devices[counter]['t_ost'] < min_time:\n                min_time = devices[counter]['t_ost']\n                current_device = counter\n            table[i]['k'] = counter + 1\n            table2.append({'j' : total_j, 't_z' : time_cummulative, 'q_j' : 0, 't_och' : 0, 't_nob' : 0, 't_obs' : devices[counter]['t_ost'],\n                       't_kob' : 0, 'k_j' : counter + 1})\n\n        table[i]['t_min'] = min_time\n\n\nend_service_flg = False\ni = 100\n\nwhile True:\n\n    if len(queue) == 0:\n        end_service_flg = True\n        for j in range(n):\n            if devices[j]['j'] != 0:\n                end_service_flg = False\n                break\n        if end_service_flg:\n            break\n\n\n    time_cummulative += min_time\n    table.append({'l' : 0, 't_sob' : 0, 'type' : 0, 'c' : 0, 't_min' : 0, 't_ozh' : 0, 'j' : 0, 'k' : 0})\n\n    for j in range(n):\n        if devices[j]['j'] != 0:\n            devices[j]['t_ost'] -= min_time\n\n    table[i]['l'] = i + 1\n    table[i]['j'] = devices[current_device]['j']\n    table[i]['t_sob'] = time_cummulative\n    table[i]['t_ozh'] = np.round(table[i-1]['t_ozh'] - min_time, 6)\n    table[i]['type'] = 2\n    table[i]['c'] = table[i-1]['c'] - 1\n    table[i]['k'] = current_device + 1\n\n    table2[table[i]['j'] - 1]['t_kob'] = np.round(time_cummulative, 6)\n    table2[table[i]['j'] - 1]['t_nob'] = np.round(time_cummulative - table2[table[i]['j']-1]['t_obs'], 6)\n    table2[table[i]['j']- 1]['t_och'] = np.round(table2[ table[i]['j'] - 1]['t_nob']  - table2[table[i]['j']-1]['t_z'], 6)\n\n\n    devices[current_device]['j'] = 0\n    devices[current_device]['t_ost'] = 0\n\n    if len(queue) > 0:\n        tmp = queue.pop(0)\n        devices[current_device]['j'] = tmp[0]\n        devices[current_device]['t_ost'] = tmp[1]\n        table2[tmp[0] - 1]['k_j'] = current_device + 1\n\n    current_device = -1\n    min_time = np.inf\n    for j in range(n):\n        if devices[j]['j'] != 0 and min_time > devices[j]['t_ost']:\n            min_time = devices[j]['t_ost']\n            current_device = j\n    if current_device == -1:\n        table[i]['t_min'] = -1\n    else:\n        table[i]['t_min'] = min_time\n\n    i += 1\n\n\nt100 = table[99]['t_sob']\nfor i in range(n):\n    table3[i]['t_pr'] = t100 - table3[i]['t_zan']\n    table3[i]['delta_pr'] = table3[i]['t_pr']/t100\n\nnotnullindex = 0\nfor i in range(101):\n    if table4[i]['R_100'] != 0:\n        notnullindex = i\n\ntable4 = table4[:notnullindex + 1]\n\nfor i in range(len(table4)):\n    table4[i]['nu_100'] = table4[i]['R_100']/100\n    table4[i]['delta_100'] = table4[i]['T_100']/t100\n\ntable3.append({'N' : '', 't_zan' : 1/n * np.sum([table3[i]['t_zan'] for i in range(n)]),\n              't_pr' : 1/n * np.sum([table3[i]['t_pr'] for i in range(n)]),\n              'delta_pr' : 1/n * np.sum([table3[i]['delta_pr'] for i in range(n)])})\n\ntable4.append({'sost' : '', 'R_100' : np.sum([table4[i]['R_100'] for i in range(len(table4))]),\n              'nu_100' : np.sum([table4[i]['nu_100'] for i in range(len(table4))]),\n              'T_100' : np.sum([table4[i]['T_100'] for i in range(len(table4))]),\n              'delta_100' : np.sum([table4[i]['delta_100'] for i in range(len(table4))])})",
      "metadata": {
        "id": "XFV8rQRV9Y2q",
        "trusted": true
      },
      "outputs": [],
      "execution_count": 21
    },
    {
      "cell_type": "code",
      "source": "table = table[:100]\ntable_df = pd.DataFrame.from_dict(table)\ntable2_df = pd.DataFrame.from_dict(table2)\ntable3_df = pd.DataFrame.from_dict(table3)\ntable4_df = pd.DataFrame.from_dict(table4)\ntable_df.to_csv('table3_1.csv', index = False)\ntable2_df.to_csv('table3_2.csv', index = False)\ntable3_df.to_csv('table3_3.csv', index = False)\ntable4_df.to_csv('table3_4.csv', index = False)",
      "metadata": {
        "id": "0hcOY8EL9Tnq",
        "trusted": true
      },
      "outputs": [],
      "execution_count": 22
    },
    {
      "cell_type": "code",
      "source": "import math\nn=16\nm=3\nlam=6.403\nmu=0.412\nro=lam/mu\nnu=ro/n\n#xy=1+(ro/n)+(ro/n)**2+(ro/n)**3+(ro/n)**4+(ro/n)**5+(ro/n)**6+(ro/n)**7+(ro/n)**8+(ro/n)**9+(ro/n)**10\n##r0=(1+ro+(ro**2)/(math.factorial(2))+(ro**3)/(math.factorial(3))+(ro**4)/(math.factorial(4))+(ro**5)/(math.factorial(5))+(ro**6)/(math.factorial(6))+(ro**7)/(math.factorial(7))+(ro**8)/(math.factorial(8))+(ro**9)*xy/(math.factorial(9))+(ro**10)/(math.factorial(10))+(ro**11)/(math.factorial(11))*xy)**(-1)\nr0=(1+ro+(ro**2)/(math.factorial(2))+(ro**3)/(math.factorial(3))+(ro**4)/(math.factorial(4))+(ro**5)/(math.factorial(5))+(ro**6)/(math.factorial(6))+(ro**7)/(math.factorial(7))+(ro**8)/(math.factorial(8))+(ro**9)/(math.factorial(9))+ (ro**10)/(math.factorial(10))+(ro**11)/(math.factorial(11))+(ro**12)/(math.factorial(12))+(ro**13)/(math.factorial(13))+(ro**14)/(math.factorial(14))+(ro**15)/(math.factorial(15))+(ro**16)/(math.factorial(16))+(ro**17)/(math.factorial(17))+(ro**18)/(math.factorial(18))+(ro**19)/(math.factorial(19))+(ro**20)/(math.factorial(20))+(ro**21)/(math.factorial(21))+(ro**22)/(math.factorial(22))+(ro**23)/(math.factorial(23))+(ro**24)/(math.factorial(24))+(ro**25)/(math.factorial(25))+(ro**26)/(math.factorial(26))+(ro**27)/(math.factorial(27))+(ro**28)/(math.factorial(28))+(ro**29)/(math.factorial(29))*(1/(1-nu)))**(-1)\n##r9=(ro**9*r0)/(math.factorial(9))\nsum=0\nprint(\"r0=\", r0)\nfor k in range(0,30):\n    rk=r0*ro**k/math.factorial(k)\n    sum+=rk\n    print(\"r\",k,\"=\",rk)\nsum-=r0\nprint(sum)",
      "metadata": {
        "trusted": true
      },
      "outputs": [
        {
          "name": "stdout",
          "text": "r0= 1.7392577712170334e-07\nr 0 = 1.7392577712170334e-07\nr 1 = 2.703026094442394e-06\nr 2 = 2.1004218546983798e-05\nr 3 = 0.00010881068879962561\nr 4 = 0.0004227638594563123\nr 5 = 0.0013140567922809551\nr 6 = 0.0034036835117212598\nr 7 = 0.007556791097625253\nr 8 = 0.014680258919324785\nr 9 = 0.02534997245427092\nr 10 = 0.03939705670502347\nr 11 = 0.05566181687605147\nr 12 = 0.07208790725270177\nr 13 = 0.08617977411109959\nr 14 = 0.09566731859108368\nr 15 = 0.09911939173765515\nr 16 = 0.09627752810925452\nr 17 = 0.08801613542026795\nr 18 = 0.07599343515317902\nr 19 = 0.06215967875393527\nr 20 = 0.04830199308998149\nr 21 = 0.03574637791899578\nr 22 = 0.025251992256766317\nr 23 = 0.017062949178986358\nr 24 = 0.01104915691677282\nr 25 = 0.006868713760980229\nr 26 = 0.004105710811385027\nr 27 = 0.0023632565916305577\nr 28 = 0.0013117139351777444\nr 29 = 0.0007029548315151572\n0.9761849065705638\n",
          "output_type": "stream"
        }
      ],
      "execution_count": 86
    },
    {
      "cell_type": "code",
      "source": "import math\nn=16\nm=3\nlam=6.403\nmu=0.412\nro=lam/mu\n#xy=1+(ro/n)+(ro/n)**2+(ro/n)**3+(ro/n)**4+(ro/n)**5+(ro/n)**6+(ro/n)**7+(ro/n)**8+(ro/n)**9+(ro/n)**10\n##r0=(1+ro+(ro**2)/(math.factorial(2))+(ro**3)/(math.factorial(3))+(ro**4)/(math.factorial(4))+(ro**5)/(math.factorial(5))+(ro**6)/(math.factorial(6))+(ro**7)/(math.factorial(7))+(ro**8)/(math.factorial(8))+(ro**9)*xy/(math.factorial(9))+(ro**10)/(math.factorial(10))+(ro**11)/(math.factorial(11))*xy)**(-1)\nr0=(1+ro+(ro**2)/(math.factorial(2))+(ro**3)/(math.factorial(3))+(ro**4)/(math.factorial(4))+(ro**5)/(math.factorial(5))+(ro**6)/(math.factorial(6))+(ro**7)/(math.factorial(7))+(ro**8)/(math.factorial(8))+(ro**9)/(math.factorial(9))+ (ro**10)/(math.factorial(10))+(ro**11)/(math.factorial(11))+(ro**12)/(math.factorial(12))+(ro**13)/(math.factorial(13))+(ro**14)/(math.factorial(14))+(ro**15)/(math.factorial(15))+(ro**16)/(math.factorial(16))*(1+nu +nu**2 + nu**3))**(-1)\n##r9=(ro**9*r0)/(math.factorial(9))\nsum=0\nprint(\"r0=\", r0)\nfor k in range(0,17):\n    rk=r0*ro**k/math.factorial(k)\n    sum+=rk\n    print(\"r\",k,\"=\",rk)\nr_17=nu*r0*ro**16/math.factorial(16)\nr_18=nu**2 * r0*ro**16/math.factorial(16)\nr_19=nu**3 * r0*ro**16/math.factorial(16)\nprint(\"r\",17,\"=\",r_17)\nprint(\"r\",18,\"=\",r_18)\nprint(\"r\",19,\"=\",r_19)\nsum+=r_17+r_18+r_19\nprint(sum)",
      "metadata": {
        "colab": {
          "base_uri": "https://localhost:8080/"
        },
        "id": "-Fo2nmt6M_e9",
        "outputId": "6d30e3b0-a9b6-4c07-d7e0-01a6f1912a55",
        "trusted": true
      },
      "outputs": [
        {
          "name": "stdout",
          "text": "r0= 1.9995247163715275e-07\nr 0 = 1.9995247163715275e-07\nr 1 = 3.1075137764385656e-06\nr 2 = 2.414734309531084e-05\nr 3 = 0.00012509339631009328\nr 4 = 0.00048602731588199476\nr 5 = 0.0015106955842681612\nr 6 = 0.0039130193471153055\nr 7 = 0.008687608488064946\nr 8 = 0.016877050105910146\nr 9 = 0.02914340664189392\nr 10 = 0.04529253221554532\nr 11 = 0.06399119236013606\nr 12 = 0.0828753245715921\nr 13 = 0.09907593413590442\nr 14 = 0.10998321884053328\nr 15 = 0.11395186897021596\nr 16 = 0.11068474165902499\nr 17 = 0.10751128653560936\nr 18 = 0.10442881791376012\nr 19 = 0.10143472710889047\n1.0\n",
          "output_type": "stream"
        }
      ],
      "execution_count": 94
    },
    {
      "cell_type": "code",
      "source": "",
      "metadata": {
        "trusted": true
      },
      "outputs": [],
      "execution_count": null
    },
    {
      "cell_type": "code",
      "source": "",
      "metadata": {
        "trusted": true
      },
      "outputs": [],
      "execution_count": null
    }
  ]
}