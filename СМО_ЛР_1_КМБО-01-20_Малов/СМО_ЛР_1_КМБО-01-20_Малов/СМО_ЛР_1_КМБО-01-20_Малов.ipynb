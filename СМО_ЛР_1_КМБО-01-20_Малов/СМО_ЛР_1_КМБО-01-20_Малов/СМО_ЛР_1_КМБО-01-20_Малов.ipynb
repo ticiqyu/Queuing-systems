{
  "metadata": {
    "kernelspec": {
      "name": "python",
      "display_name": "Python (Pyodide)",
      "language": "python"
    },
    "language_info": {
      "codemirror_mode": {
        "name": "python",
        "version": 3
      },
      "file_extension": ".py",
      "mimetype": "text/x-python",
      "name": "python",
      "nbconvert_exporter": "python",
      "pygments_lexer": "ipython3",
      "version": "3.8"
    }
  },
  "nbformat_minor": 4,
  "nbformat": 4,
  "cells": [
    {
      "cell_type": "code",
      "source": "import scipy.stats as sps\nimport numpy as np\n\nV = 14\nprecision = 6\nN = 100\n\nimport numpy as np\nimport csv\n\ndef export_table(arr, file_name):\n    precision = 6\n\n    # Write data to a CSV file\n    with open(f\"{file_name}.csv\", mode='w', newline='') as file:\n        writer = csv.writer(file)\n        for row in arr:\n            row = [f\"{np.round(x, precision - 1)}\" for x in row]\n            writer.writerow(row)\n",
      "metadata": {
        "trusted": true
      },
      "outputs": [],
      "execution_count": 2
    },
    {
      "cell_type": "code",
      "source": "#(D|M|1|0)\ndef task1():\n  t_demand = 0.803\n  mu = 1.239\n  l = 1 #processing demand number\n  l_j = 1 #current demand number\n  l_print = 1 #printable num of demand\n  k = 1 #quantity of served demands\n  t_event = t_demand #moment of event execution\n  current_event_stat = 1 #demand is recieved and is serving\n  current_sys_stat = 1 #system is serving a demand\n  np.random.seed(12345)\n  times_of_services = sps.expon.rvs(scale=1/mu, size=N)\n  remaining_serv_time = times_of_services[0]\n  remaining_demand_time = t_demand\n  table_1 = []\n  table_2 = [None] * N\n  table_2[0] = [1, l * t_demand, times_of_services[k - 1], l * t_demand + times_of_services[k - 1]]\n  table_3 = [[0,0,0,0], [0,0,0,0]]\n  for j in range(2, 102):\n    table_1.append([j-1, t_event, current_event_stat, current_sys_stat, remaining_serv_time, remaining_demand_time, l_print])\n    #time to serve less then time to recieve new demand\n    if remaining_serv_time < remaining_demand_time and current_sys_stat == 1:\n      t_event = t_event + remaining_serv_time\n      current_event_stat = 3\n      current_sys_stat = 0\n      remaining_demand_time -= remaining_serv_time\n      remaining_serv_time = -1\n      l_print = l\n\n    elif remaining_serv_time > remaining_demand_time:\n      t_event += remaining_demand_time\n      current_event_stat = 2\n      current_sys_stat = 1\n      remaining_serv_time -= remaining_demand_time\n      remaining_demand_time = t_demand\n      l_j += 1\n      l_print = l_j\n      table_2[l_j - 1] = [l_j, t_event, 0, t_event]\n\n    elif current_sys_stat == 0:\n      if j != 101:\n        table_3[0][2] += remaining_demand_time #time of waiting\n      t_event += remaining_demand_time\n      current_event_stat = 1\n      current_sys_stat = 1\n      remaining_serv_time = times_of_services[k]\n      remaining_demand_time = t_demand\n      l_j += 1\n      l = l_j\n      l_print = l_j\n      k += 1\n      table_2[l - 1] = [l, l * t_demand, times_of_services[k - 1], l * t_demand + times_of_services[k - 1]]\n\n  max_demand_num = 0\n  for arr in table_1:\n    if arr[-1] > max_demand_num:\n      max_demand_num = arr[-1]\n  table_2 = table_2[0:max_demand_num]\n\n  for row in table_1:\n    table_3[row[3]][0] += 1\n  table_3[0][2] += t_demand\n  table_3[1][2] = table_1[-1][1] - table_3[0][2]\n\n  table_3[0][1] = table_3[0][0]/(table_3[0][0] + table_3[1][0])\n  table_3[1][1] = table_3[1][0]/(table_3[0][0] + table_3[1][0])\n\n  table_3[0][3] = table_3[0][2]/(table_3[0][2] + table_3[1][2])\n  table_3[1][3] = table_3[1][2]/(table_3[0][2] + table_3[1][2])\n\n  return table_1, table_2, table_3\n\nt1, t2, t3 = task1()\nt3[0].insert(0, 0)\nt3[1].insert(0, 1)\nexport_table(t1, \"table_11\")\nexport_table(t2, \"table_12\")\nexport_table(t3, \"table_13\")\n\nprint(f\"Count of demands: {len(t2)}\")\nprint(f\"Count of unserved demands: {sum(map((lambda x: x[2] == 0), t2))}\")\n",
      "metadata": {
        "trusted": true
      },
      "outputs": [
        {
          "name": "stdout",
          "text": "Count of demands: 67\nCount of unserved demands: 33\n",
          "output_type": "stream"
        }
      ],
      "execution_count": 9
    },
    {
      "cell_type": "code",
      "source": "#(M|D|1|0)\ndef task2():\n  t_serv = 0.796\n  e_lambda = 1.053\n  l = 1 #processing demand number\n  l_j = 1 #current demand number\n  l_print = 1 #printable num of demand\n  k = 1 #quantity of served demands\n  current_event_stat = 1 #demand is recieved and is serving\n  current_sys_stat = 1 #system is serving a demand\n  np.random.seed(2048)\n  times_of_demandes = sps.expon.rvs(scale=1/e_lambda, size=N)\n  remaining_demand_time = times_of_demandes[1]\n  remaining_serv_time = t_serv\n  t_event = times_of_demandes[0] #moment of event execution\n  q = [1]\n  task = 1\n  table_1 = []\n  table_2 = [None] * N\n  table_2[0] = [1, t_event, 0, 0, t_event, t_serv, t_event + t_serv]\n  table_3 = [[0, 0, 0, 0]]\n  table_3[0][2] = t_event\n\n  for j in range(2, 102):\n    table_1.append([j-1, t_event, current_event_stat, current_sys_stat, remaining_serv_time, remaining_demand_time, l_print])\n    #time to serve less then time to recieve new demand\n    if remaining_serv_time <= remaining_demand_time and current_sys_stat > 0:\n      if j != 101:\n        if len(table_3) < current_sys_stat+1:\n          table_3.append([0, 0, 0, 0])\n        table_3[current_sys_stat][2] += remaining_serv_time\n\n      t_event = t_event + remaining_serv_time\n      current_event_stat = 2\n      current_sys_stat -= 1\n      task = q.pop(0)\n      l_print = task\n      t_serv_start = t_event - t_serv\n      table_2[task - 1][3] = t_serv_start - table_2[task - 1][1]\n      if table_2[task - 1][3] < 0.000001:\n        table_2[task - 1][3] = 0\n      table_2[task - 1][4] = t_serv_start\n      table_2[task - 1][5] = t_serv\n      table_2[task - 1][6] = t_event\n\n      remaining_demand_time -= remaining_serv_time\n      remaining_serv_time = t_serv\n\n    elif remaining_serv_time > remaining_demand_time or current_sys_stat == 0:\n      if j != 101:\n        if len(table_3) < current_sys_stat+1:\n          table_3.append([0, 0, 0, 0])\n        table_3[current_sys_stat][2] += remaining_demand_time\n\n      t_event += remaining_demand_time\n      current_event_stat = 1\n      if current_sys_stat == 0:\n        remaining_serv_time = t_serv\n      else:\n        remaining_serv_time -= remaining_demand_time\n      current_sys_stat += 1\n      l_j += 1\n      remaining_demand_time = times_of_demandes[l_j]\n      q.append(l_j)\n      l_print = l_j\n      table_2[l_j - 1] = [l_j, t_event, current_sys_stat-1, -1, -1, -1, -1]\n\n  max_demand_num = 0\n  for arr in table_1:\n    if arr[-1] > max_demand_num:\n      max_demand_num = arr[-1]\n  table_2 = table_2[0:max_demand_num]\n\n\n  #if table_1[-1][2] == 1\n  for row in table_1:\n    table_3[row[3]][0] += 1\n\n  for i in range(len(table_3)):\n    table_3[i][1] = table_3[i][0] / 100\n    table_3[i][3] = table_3[i][2] / table_1[-1][1]\n\n\n  return table_1, table_2, table_3\nt1, t2, t3 = task2()\n\nfor i in range(len(t3)):\n    t3[i].insert(0, i)\nexport_table(t1, \"table_21\")\nexport_table(t2, \"table_22\")\nexport_table(t3, \"table_23\")\n\n\nprint(f\"Count of demands: {len(t2)}\")\nprint(f\"Count of unserved demands: {sum(map((lambda x: x[3] != -1), t2))}\")\nz = 0\nfor i in range(100):\n    cnt = 0\n    t_event = t1[i][1]\n    for j in range(len(t2)):\n        if t2[j][1] >= t_event:\n            cnt += 1\n    z += cnt\nprint(f\"z(100): {z/100}\")\n\nprint(f\"Count of demands: {len(t2)}\")\nserv_demands = sum(map((lambda x: x[2] == 2), t1))\nprint(f\"Count of served demands: {serv_demands}\")\nz = 0\nfor i in range(100):\n    cnt = 0\n    t_event = t1[i][1]\n    for j in range(len(t2)):\n        if t2[j][1] >= t_event:\n            cnt += 1\n    z += cnt\nprint(f\"z(100): {z/100}\")\n\nsum_q_time = 0\nsum_stay_time = 0\nfor i in range(serv_demands):\n    sum_q_time += t2[i][3]\n    sum_stay_time += (t2[i][6] - t2[i][1])\nq_time_mean = sum_q_time / serv_demands\nprint(f\"q_time_mean: {round(q_time_mean, 5)}\")\nstay_time_mean = sum_stay_time / serv_demands\nprint(f\"stay_time_mean: {round(stay_time_mean, 5)}\")\nprint(f\"downtime: {round(t3[0][3] / t1[-1][1], 5)}\")\n",
      "metadata": {
        "trusted": true
      },
      "outputs": [
        {
          "name": "stdout",
          "text": "Count of demands: 52\nCount of unserved demands: 48\nz(100): 25.62\nCount of demands: 52\nCount of served demands: 48\nz(100): 25.62\nq_time_mean: 1.75044\nstay_time_mean: 2.54644\ndowntime: 0.12091\n",
          "output_type": "stream"
        }
      ],
      "execution_count": 10
    },
    {
      "cell_type": "code",
      "source": "#(M|M|1|0)\ndef task3():\n  mu = 1.239\n  e_lambda = 1.053\n  l = 1 # processing demand number\n  l_j = 1 # current demand number\n  l_print = 1 # printable num of demand\n  current_event_stat = 1 # demand is recieved and is serving\n  current_sys_stat = 1 # system is serving a demand\n  np.random.seed(2048)\n  times_of_demandes = sps.expon.rvs(scale=1/e_lambda, size=N)\n  remaining_demand_time = times_of_demandes[1]\n  times_of_services = sps.expon.rvs(scale=1/mu, size=N)\n  remaining_serv_time = times_of_services[0]\n  t_event = times_of_demandes[0] # moment of event execution\n  q = [1]\n  task = 1\n  table_1 = []\n  table_2 = [None] * N\n  table_2[0] = [1, t_event, 0, -1, -1, -1, -1]\n  table_3 = [[0, 0, 0, 0]]\n  table_3[0][2] = t_event\n\n  for j in range(2, 102):\n    table_1.append([j-1, t_event, current_event_stat, current_sys_stat, remaining_serv_time, remaining_demand_time, l_print])\n    #time to serve less then time to recieve new demand\n    if remaining_serv_time <= remaining_demand_time and current_sys_stat > 0:\n      if len(table_3) < current_sys_stat+1:\n          table_3.append([0, 0, 0, 0])\n      if j != 101:\n        table_3[current_sys_stat][2] += remaining_serv_time\n\n      t_event = t_event + remaining_serv_time\n      current_event_stat = 2\n      current_sys_stat -= 1\n      task = q.pop(0)\n      t_serv = times_of_services[task-1]\n      l_print = task\n      t_serv_start = t_event - t_serv\n      table_2[task - 1][3] = t_serv_start - table_2[task - 1][1]\n      if table_2[task - 1][3] < 0.000001:\n        table_2[task - 1][3] = 0\n      table_2[task - 1][4] = t_serv_start\n      table_2[task - 1][5] = t_serv\n      table_2[task - 1][6] = t_event\n\n      remaining_demand_time -= remaining_serv_time\n      remaining_serv_time = t_serv\n\n    elif remaining_serv_time > remaining_demand_time or current_sys_stat == 0:\n      if len(table_3) < current_sys_stat+1:\n          table_3.append([0, 0, 0, 0])\n      if j != 101:\n        table_3[current_sys_stat][2] += remaining_demand_time\n\n      t_event += remaining_demand_time\n      current_event_stat = 1\n      l_j += 1\n      if current_sys_stat == 0:\n        remaining_serv_time = times_of_services[l_j-1]\n      else:\n        remaining_serv_time -= remaining_demand_time\n      current_sys_stat += 1\n      remaining_demand_time = times_of_demandes[l_j]\n      q.append(l_j)\n      l_print = l_j\n      table_2[l_j - 1] = [l_j, t_event, current_sys_stat-1, -1, -1, -1, -1]\n\n  max_demand_num = 0\n  for arr in table_1:\n    if arr[-1] > max_demand_num:\n      max_demand_num = arr[-1]\n  table_2 = table_2[0:max_demand_num]\n\n\n  for row in table_1:\n    table_3[row[3]][0] += 1\n\n  for i in range(len(table_3)):\n    table_3[i][1] = table_3[i][0] / 100\n    table_3[i][3] = table_3[i][2] / table_1[-1][1]\n\n\n  return table_1, table_2, table_3\n\nt1, t2, t3 = task3()\n\nfor i in range(len(t3)):\n    t3[i].insert(0, i)\nexport_table(t1, \"table_31\")\nexport_table(t2, \"table_32\")\nexport_table(t3, \"table_33\")\n\nprint(f\"Count of demands: {len(t2)}\")\nprint(f\"Count of unserved demands: {sum(map((lambda x: x[3] != -1), t2))}\")\nz = 0\nfor i in range(100):\n    cnt = 0\n    t_event = t1[i][1]\n    for j in range(len(t2)):\n        if t2[j][1] >= t_event:\n            cnt += 1\n    z += cnt\nprint(f\"z(100): {z/100}\")\n\nprint(f\"Count of demands: {len(t2)}\")\nserv_demands = sum(map((lambda x: x[2] == 2), t1))\nprint(f\"Count of served demands: {serv_demands}\")\nz = 0\nfor i in range(100):\n    cnt = 0\n    t_event = t1[i][1]\n    for j in range(len(t2)):\n        if t2[j][1] >= t_event:\n            cnt += 1\n    z += cnt\nprint(f\"z(100): {z/100}\")\n\nsum_q_time = 0\nsum_stay_time = 0\nfor i in range(serv_demands):\n    sum_q_time += t2[i][3]\n    sum_stay_time += (t2[i][6] - t2[i][1])\nq_time_mean = sum_q_time / serv_demands\nprint(f\"q_time_mean: {round(q_time_mean, 5)}\")\nstay_time_mean = sum_stay_time / serv_demands\nprint(f\"stay_time_mean: {round(stay_time_mean, 5)}\")\nprint(f\"downtime: {round(t3[0][3] / t1[-1][1], 5)}\")\n",
      "metadata": {
        "trusted": true
      },
      "outputs": [
        {
          "name": "stdout",
          "text": "Count of demands: 61\nCount of unserved demands: 40\nz(100): 29.4\nCount of demands: 61\nCount of served demands: 39\nz(100): 29.4\nq_time_mean: 10.54362\nstay_time_mean: 11.62021\ndowntime: 0.06719\n",
          "output_type": "stream"
        }
      ],
      "execution_count": 11
    },
    {
      "cell_type": "code",
      "source": "sum_q_time = 0\nsum_stay_time = 0\nfor i in range(serv_demands):\n    sum_q_time += t2[i][3]\n    sum_stay_time += (t2[i][6] - t2[i][1])\nq_time_mean = sum_q_time / serv_demands\nprint(f\"q_time_mean: {round(q_time_mean, 5)}\")\nstay_time_mean = sum_stay_time / serv_demands\nprint(f\"stay_time_mean: {round(stay_time_mean, 5)}\")\nprint(f\"downtime: {round(t3[0][3] / t1[-1][1], 5)}\")",
      "metadata": {
        "trusted": true
      },
      "outputs": [
        {
          "name": "stdout",
          "text": "q_time_mean: 10.54362\nstay_time_mean: 11.62021\ndowntime: 0.06719\n",
          "output_type": "stream"
        }
      ],
      "execution_count": 6
    },
    {
      "cell_type": "code",
      "source": "",
      "metadata": {
        "trusted": true
      },
      "outputs": [],
      "execution_count": null
    }
  ]
}